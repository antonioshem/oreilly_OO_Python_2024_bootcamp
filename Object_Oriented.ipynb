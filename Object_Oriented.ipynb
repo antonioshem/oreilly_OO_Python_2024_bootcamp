{
  "nbformat": 4,
  "nbformat_minor": 0,
  "metadata": {
    "colab": {
      "provenance": [],
      "authorship_tag": "ABX9TyM0t2K0pYtaCdBKRUwpUHOw",
      "include_colab_link": true
    },
    "kernelspec": {
      "name": "python3",
      "display_name": "Python 3"
    },
    "language_info": {
      "name": "python"
    }
  },
  "cells": [
    {
      "cell_type": "markdown",
      "metadata": {
        "id": "view-in-github",
        "colab_type": "text"
      },
      "source": [
        "<a href=\"https://colab.research.google.com/github/antonioshem/oreilly_OO_Python_2024_bootcamp/blob/main/Object_Oriented.ipynb\" target=\"_parent\"><img src=\"https://colab.research.google.com/assets/colab-badge.svg\" alt=\"Open In Colab\"/></a>"
      ]
    },
    {
      "cell_type": "code",
      "execution_count": null,
      "metadata": {
        "colab": {
          "base_uri": "https://localhost:8080/"
        },
        "id": "kSgn7Ao5ypZt",
        "outputId": "02e544a6-8b24-4d39-e41d-072b9b3be420"
      },
      "outputs": [
        {
          "output_type": "execute_result",
          "data": {
            "text/plain": [
              "4"
            ]
          },
          "metadata": {},
          "execution_count": 35
        }
      ],
      "source": [
        "s = 'abcd'\n",
        "len(s) #we are calling the len function on a string"
      ]
    },
    {
      "cell_type": "code",
      "source": [
        "x =100\n",
        "id(x)"
      ],
      "metadata": {
        "colab": {
          "base_uri": "https://localhost:8080/"
        },
        "id": "prYDH-3j03N9",
        "outputId": "c53d9dba-34b1-4bd3-8c52-3e4f4e7dbe22"
      },
      "execution_count": null,
      "outputs": [
        {
          "output_type": "execute_result",
          "data": {
            "text/plain": [
              "139797108460880"
            ]
          },
          "metadata": {},
          "execution_count": 36
        }
      ]
    },
    {
      "cell_type": "markdown",
      "source": [
        "# the id number is actually the address of the object memory"
      ],
      "metadata": {
        "id": "eMgVdspa09w9"
      }
    },
    {
      "cell_type": "code",
      "source": [
        "# prompt: show usage of address memory in python\n",
        "\n",
        "x = 10\n",
        "y = x\n",
        "\n",
        "print(id(x))\n",
        "print(id(y))\n",
        "\n",
        "y = y + 1\n",
        "\n",
        "print(id(x))\n",
        "print(id(y))\n"
      ],
      "metadata": {
        "colab": {
          "base_uri": "https://localhost:8080/"
        },
        "id": "bQeHGzl11OPW",
        "outputId": "34ce83bc-1c78-4941-d753-276b02c9d491"
      },
      "execution_count": null,
      "outputs": [
        {
          "output_type": "stream",
          "name": "stdout",
          "text": [
            "139797108458000\n",
            "139797108458000\n",
            "139797108458000\n",
            "139797108458032\n"
          ]
        }
      ]
    },
    {
      "source": [
        "\n",
        "class Person:\n",
        "    def __init__(self, first_name, last_name, shoe_size):\n",
        "        self.first_name = first_name\n",
        "        self.last_name = last_name\n",
        "        self.shoe_size = shoe_size\n",
        "\n",
        "    def fullname(self):\n",
        "        return f\"{self.first_name} {self.last_name}\"  # Changed to return \"John Doe\" format\n",
        "\n",
        "\n",
        "\n",
        "    #use of getter methods to get the values of the attributes\n",
        "    def get_first_name(self):\n",
        "        return self.first_name\n",
        "\n",
        "    def get_last_name(self):\n",
        "        return self.last_name\n",
        "\n",
        "    def get_shoe_size(self):\n",
        "        return self.shoe_size\n",
        "\n",
        "#use of setter methods to set the values of the attributes\n",
        "\n",
        "    def set_first_name(self, first_name):\n",
        "        self.first_name = first_name\n",
        "\n",
        "    def set_last_name(self, last_name):\n",
        "        self.last_name = last_name\n",
        "\n",
        "    def set_shoe_size(self, shoe_size):\n",
        "        self.shoe_size = shoe_size\n",
        "\n",
        "p1 = Person(\"John\", \"Doe\", 10)\n",
        "\n",
        "p1.first_name = \"Jane\"\n",
        "p1.last_name = \"Smith\"\n",
        "p1.shoe_size = 12\n",
        "\n",
        "print(p1.first_name)\n",
        "print(p1.last_name)\n",
        "print(p1.shoe_size)\n",
        "\n",
        "print(p1.fullname())  # Call the fullname method to get the desired output\n",
        "print(p1.get_first_name())\n",
        "print(p1.get_last_name())\n",
        "print(p1.get_shoe_size())\n",
        "\n",
        "p1.set_first_name(\"Jane\")\n",
        "p1.set_last_name(\"Smith\")\n",
        "p1.set_shoe_size(12)\n",
        "\n",
        "print(p1.get_first_name())\n",
        "print(p1.get_last_name())\n",
        "print(p1.get_shoe_size())"
      ],
      "cell_type": "code",
      "metadata": {
        "colab": {
          "base_uri": "https://localhost:8080/"
        },
        "id": "lgFf7l6m6NvT",
        "outputId": "d5a1b95f-9ec6-472a-bff6-e0cbe61847a6"
      },
      "execution_count": null,
      "outputs": [
        {
          "output_type": "stream",
          "name": "stdout",
          "text": [
            "Jane\n",
            "Smith\n",
            "12\n",
            "Jane Smith\n",
            "Jane\n",
            "Smith\n",
            "12\n",
            "Jane\n",
            "Smith\n",
            "12\n"
          ]
        }
      ]
    },
    {
      "cell_type": "code",
      "source": [
        "dir(Person)"
      ],
      "metadata": {
        "colab": {
          "base_uri": "https://localhost:8080/"
        },
        "id": "USzkBjRG9Xgb",
        "outputId": "3534df54-38eb-4269-b61f-4361b0b53409"
      },
      "execution_count": null,
      "outputs": [
        {
          "output_type": "execute_result",
          "data": {
            "text/plain": [
              "['__class__',\n",
              " '__delattr__',\n",
              " '__dict__',\n",
              " '__dir__',\n",
              " '__doc__',\n",
              " '__eq__',\n",
              " '__format__',\n",
              " '__ge__',\n",
              " '__getattribute__',\n",
              " '__gt__',\n",
              " '__hash__',\n",
              " '__init__',\n",
              " '__init_subclass__',\n",
              " '__le__',\n",
              " '__lt__',\n",
              " '__module__',\n",
              " '__ne__',\n",
              " '__new__',\n",
              " '__reduce__',\n",
              " '__reduce_ex__',\n",
              " '__repr__',\n",
              " '__setattr__',\n",
              " '__sizeof__',\n",
              " '__str__',\n",
              " '__subclasshook__',\n",
              " '__weakref__',\n",
              " 'fullname',\n",
              " 'get_first_name',\n",
              " 'get_last_name',\n",
              " 'get_shoe_size',\n",
              " 'set_first_name',\n",
              " 'set_last_name',\n",
              " 'set_shoe_size']"
            ]
          },
          "metadata": {},
          "execution_count": 39
        }
      ]
    },
    {
      "cell_type": "code",
      "source": [
        "#Exercise: Friendly person class that has two atrributes first_name and last_name. You can retieve and print. Add a method that returns a string with Hello and ending with there first and last names. Two instances of person\n",
        "\n",
        "class FriendlyPerson:\n",
        "    def __init__(self, first_name, last_name):\n",
        "        self.first_name = first_name\n",
        "        self.last_name = last_name\n",
        "\n",
        "\n",
        "    def person_friendly(self):\n",
        "        return f\"Hello {self.first_name} {self.last_name}\"\n",
        "\n",
        "p1 = FriendlyPerson(\"John\", \"Doe\")\n",
        "p2 = FriendlyPerson(\"Jane\", \"Smith\")\n",
        "\n",
        "print(p1.person_friendly())\n",
        "print(p2.person_friendly())"
      ],
      "metadata": {
        "colab": {
          "base_uri": "https://localhost:8080/"
        },
        "id": "Uu87QLpUCxRJ",
        "outputId": "1d47bfea-4ea7-42dc-ce72-fb15a05942b3"
      },
      "execution_count": null,
      "outputs": [
        {
          "output_type": "stream",
          "name": "stdout",
          "text": [
            "Hello John Doe\n",
            "Hello Jane Smith\n"
          ]
        }
      ]
    },
    {
      "cell_type": "code",
      "source": [
        "''' define a class scoop which takes a single argument, a string containing a flavour of icecream.\n",
        "That should define flavor atribute on the scoop object\n",
        "Define three instances of the scoop, each with a different flavor\n",
        " create a list of those three scoops, iterate over them, and print their flavours '''\n",
        "\n",
        "class Scoop:\n",
        "    def __init__(self, flavor):\n",
        "        self.flavor = flavor\n",
        "\n",
        "s1 = Scoop(\"Chocolate\")\n",
        "s2 = Scoop(\"Vanilla\")\n",
        "s3 = Scoop(\"Strawberry\")\n",
        "\n",
        "scoops = [s1, s2, s3]\n",
        "\n",
        "for scoop in scoops:\n",
        "  print(scoop.flavor)"
      ],
      "metadata": {
        "colab": {
          "base_uri": "https://localhost:8080/"
        },
        "id": "bbe9Es8aIi8y",
        "outputId": "ef77d86c-809d-4a8b-bbcc-b194fdeaf866"
      },
      "execution_count": null,
      "outputs": [
        {
          "output_type": "stream",
          "name": "stdout",
          "text": [
            "Chocolate\n",
            "Vanilla\n",
            "Strawberry\n"
          ]
        }
      ]
    },
    {
      "cell_type": "code",
      "source": [
        "''' Example of a bowl of an icecream\n",
        "# Create a class, 'Bowl'. Every instance of 'Bowl' will have an attribute, 'scoops', a list. The list will start empty, but we can add instances of 'Scoop' to it.\n",
        "# Define a method, 'add_scoops', which takes one or more arguments, all of which should be instances of 'Scoop'. Each instance should then be added to the list, on the 'scoops' attribute.\n",
        "# Define a 'Bowl', invoke \"add_scoops\" with two Scoop objects. Then invoke it with one \"Scoop\" object. How many scoops are on the list/in the bowl now? '''\n",
        "\n",
        "class Bowl:\n",
        "    def __init__(self):\n",
        "        self.scoops = []\n",
        "\n",
        "    def add_scoops(self, *scoops):  # Use *scoops to accept any number of arguments\n",
        "        self.scoops.extend(scoops)\n",
        "\n",
        "    def add_scoops_add(self, *args):  # Use *args to accept any number of arguments. You can call it args or anything.\n",
        "      for one_scoop in args:\n",
        "        self.scoops.append(one_scoop)\n",
        "\n",
        "s1 = Scoop(\"Chocolate\")\n",
        "s2 = Scoop(\"Vanilla\")\n",
        "s3 = Scoop(\"Strawberry\")\n",
        "\n",
        "bowl = Bowl()\n",
        "bowl.add_scoops(s1, s2)\n",
        "bowl.add_scoops(s3)\n",
        "bowl.add_scoops_add(s1, s2)\n",
        "\n",
        "\n",
        "print(len(bowl.scoops))"
      ],
      "metadata": {
        "colab": {
          "base_uri": "https://localhost:8080/"
        },
        "id": "e2od5VGxIsP9",
        "outputId": "d06f3b18-4a80-4a82-8891-bdaea87df699"
      },
      "execution_count": null,
      "outputs": [
        {
          "output_type": "stream",
          "name": "stdout",
          "text": [
            "5\n"
          ]
        }
      ]
    },
    {
      "cell_type": "code",
      "source": [
        "'''write flavours method for the bowl class. Invoking flavours on bowl returns a list of strings -- the flavors of the scoops in the bowl.\n",
        " So if I were to say b.flavors(), that would return the list ['Chocolate','Vannila','Strawberry']'''\n",
        "\n",
        "class Bowl:\n",
        "    def __init__(self):\n",
        "        self.scoops = []\n",
        "\n",
        "    def add_scoops(self, *scoops):  # Use *scoops to accept any number of arguments\n",
        "        self.scoops.extend(scoops)\n",
        "\n",
        "    def flavours(self):\n",
        "        return [scoop.flavor for scoop in self.scoops]  # Use list comprehension to get the flavor of each scoop\n",
        "\n",
        "s1 = Scoop(\"Chocolate\")\n",
        "s2 = Scoop(\"Vanilla\")\n",
        "s3 = Scoop(\"Strawberry\")\n",
        "\n",
        "bowl = Bowl()\n",
        "bowl.add_scoops(s1, s2)\n",
        "bowl.add_scoops(s3)\n",
        "\n",
        "print(bowl.flavours())"
      ],
      "metadata": {
        "colab": {
          "base_uri": "https://localhost:8080/"
        },
        "id": "lLGJElZRUrp_",
        "outputId": "6748712b-7435-47f4-ada1-86b083d44708"
      },
      "execution_count": null,
      "outputs": [
        {
          "output_type": "stream",
          "name": "stdout",
          "text": [
            "['Chocolate', 'Vanilla', 'Strawberry']\n"
          ]
        }
      ]
    },
    {
      "cell_type": "code",
      "source": [
        "\n",
        "class Scoop:\n",
        "    def __init__(self, flavor, *mixins):\n",
        "        self.flavor = flavor\n",
        "        self.mixins = mixins\n",
        "    def __repr__(self) -> str:\n",
        "       return f'Scoop of {self.flavor}'\n",
        "\n",
        "'''\n",
        "Add a __repr__ method to the Scoop class, such that priniting an instance of Scoop will show Scoop of flavor\n",
        "'''\n",
        "\n",
        "    #def __str__(self):\n",
        "        #return f\"{self.flavor} with {', '.join(self.mixins)}\"\n",
        "\n",
        "class Bowl:\n",
        "    MAX_SCOOPS = 3\n",
        "    def __init__(self):\n",
        "        self.scoops = []\n",
        "\n",
        "    def add_scoops(self, *args):\n",
        "        for one_scoop in args:\n",
        "            if len(self.scoops) >= self.MAX_SCOOPS:\n",
        "              break\n",
        "            self.scoops.append(one_scoop)\n",
        "\n",
        "    def flavours(self):\n",
        "        return [scoop.flavor for scoop in self.scoops]\n",
        "\n",
        "    def mixins(self):\n",
        "        return [mixin for scoop in self.scoops for mixin in scoop.mixins]\n",
        "\n",
        "    def has_flavor(self, flavor):\n",
        "      '''\n",
        "      a method has a flavor that returns true when the flavor is in the bowl\n",
        "      '''\n",
        "      return True in [scoop.flavor == flavor for scoop in self.scoops]\n",
        "      #return flavor in self.flavors()\n",
        "\n",
        "    def __repr__(self) -> str:\n",
        "      '''\n",
        "      when  someone turns an instance of bowl into a string, we should get the string back.\n",
        "\n",
        "      def __rep__(self):\n",
        "        output =''\n",
        "        for index, one_scoop in enumerate (self.scoops):\n",
        "          output += f'{index+1}: {one_scoop}\\n'\n",
        "        return output\n",
        "\n",
        "        #option 2\n",
        "        return '\\n'.join([f'{index+1}: {one_scoop}' for index, one_scoop in enumerate(self.scoops)])\n",
        "      '''\n",
        "      return f'Bowl of {self.flavours()}'\n",
        "\n",
        "    #def MAX_SCOOPS(self):\n",
        "      '''\n",
        "      Define a class attribute, Max_scoops, with value 3\n",
        "      Use the class attribute to limit the number of scoops a bowl can have. Ignore any scoop beyond the limit.\n",
        "      '''\n",
        "     # return 3\n",
        "'''\n",
        "Use inheritance to create a Bigbowl except that it allows 5 scoops.\n",
        "'''\n",
        "class BigBowl(Bowl):\n",
        "  MAX_SCOOPS = 5\n",
        "\n",
        "  def __init__(self):\n",
        "    super().__init__()\n",
        "    self.MAX_SCOOPS = 5\n",
        "\n",
        "\n",
        "s1 = Scoop(\"Chocolate\", \"sprinkles\", \"caramel\")\n",
        "s2 = Scoop(\"Vanilla\", \"sprinkles\", \"caramel\")\n",
        "s3 = Scoop(\"Strawberry\", \"sprinkles\", \"caramel\")\n",
        "s4 = Scoop(\"Chocolate\", \"sprinkles\", \"caramel\")\n",
        "s5 = Scoop(\"Chocolate\", \"sprinkles\", \"caramel\")\n",
        "s6 = Scoop(\"Chocolate\", \"sprinkles\", \"caramel\")\n",
        "\n",
        "\n",
        "print(s1)\n",
        "print(s2)\n",
        "print(s3)\n",
        "\n",
        "\n",
        "bowl = Bowl()\n",
        "bowl.add_scoops(s1, s2)\n",
        "bowl.add_scoops(s3)\n",
        "\n",
        "print(bowl.flavours())\n",
        "print(bowl.mixins())\n",
        "\n",
        "s2 = Scoop(\"Vanilla\", \"sprinkles\", \"caramel\")\n",
        "s3 = Scoop(\"Strawberry\", \"sprinkles\", \"caramel\")\n",
        "\n",
        "bowl = Bowl()\n",
        "bowl.add_scoops(s1, s2)\n",
        "bowl.add_scoops(s3)\n",
        "\n",
        "print(s3)\n",
        "print(bowl.has_flavor(\"Antonio\"))\n",
        "print(bowl.mixins())\n",
        "\n",
        "\n",
        "print(bowl)\n",
        "\n",
        "big_bowl = BigBowl()\n",
        "big_bowl.add_scoops(s1, s2, s3, s4, s5, s6)\n",
        "print(big_bowl)"
      ],
      "metadata": {
        "id": "HxcVynuqVjPu",
        "colab": {
          "base_uri": "https://localhost:8080/"
        },
        "outputId": "75e6be98-cbf4-4ce9-fc15-0a954c78e220"
      },
      "execution_count": null,
      "outputs": [
        {
          "output_type": "stream",
          "name": "stdout",
          "text": [
            "Scoop of Chocolate\n",
            "Scoop of Vanilla\n",
            "Scoop of Strawberry\n",
            "['Chocolate', 'Vanilla', 'Strawberry']\n",
            "['sprinkles', 'caramel', 'sprinkles', 'caramel', 'sprinkles', 'caramel']\n",
            "Scoop of Strawberry\n",
            "False\n",
            "['sprinkles', 'caramel', 'sprinkles', 'caramel', 'sprinkles', 'caramel']\n",
            "Bowl of ['Chocolate', 'Vanilla', 'Strawberry']\n",
            "Bowl of ['Chocolate', 'Vanilla', 'Strawberry', 'Chocolate', 'Chocolate']\n"
          ]
        }
      ]
    },
    {
      "cell_type": "code",
      "source": [
        "def hello(first, last):\n",
        "  return f\"Hello {first} {last}\"\n",
        "\n",
        "hello(\"John\", \"Doe\")\n",
        "\n",
        "hello(first=\"John\", last=\"Doe\")\n",
        "\n",
        "hello(last=\"Doe\", first=\"John\")"
      ],
      "metadata": {
        "colab": {
          "base_uri": "https://localhost:8080/",
          "height": 35
        },
        "id": "C3-LqM29ePvK",
        "outputId": "f6ec333c-e708-47c2-c274-d4dcc211cdef"
      },
      "execution_count": null,
      "outputs": [
        {
          "output_type": "execute_result",
          "data": {
            "text/plain": [
              "'Hello John Doe'"
            ],
            "application/vnd.google.colaboratory.intrinsic+json": {
              "type": "string"
            }
          },
          "metadata": {},
          "execution_count": 45
        }
      ]
    },
    {
      "cell_type": "code",
      "source": [
        "'''\n",
        "Exercise: Define a report card class that wil be used to describe a students grade.\n",
        "Each instance of ReportCard will have one attribute name, which identifes the student\n",
        "It will also have a grades attributes, a dict whose keys are course names and whose values are course scores (integers, from 1-100)\n",
        "It should have a get_grade method, which takes acourse name and returns the grade of the course.\n",
        "It should have a print_all_grades method that prints all the grades, nicely formatted report card.\n",
        "Define an instance of ReportCard, get the grades for a few classes, and then print the report with print_all_grades.\n",
        "\n",
        "Modify ReportCard, replace print_all_grades method  with __rep___ method that returns a printable string\n",
        "Define LetterReportCard, where instead of storing (what it receives), it stores a letter grade. Decide on the cutoff grades for each letter grade.\n",
        "'''\n",
        "\n",
        "class ReportCard:\n",
        "    def __init__(self, name, **kwargs):\n",
        "        self.name = name\n",
        "        self.grades = kwargs\n",
        "\n",
        "    def get_grade(self, course_name):\n",
        "      if course_name in self.grades:\n",
        "        return self.grades[course_name]\n",
        "      return f'No such subject {course_name}'\n",
        "\n",
        "    def __repr__(self):\n",
        "      output = f'{self.name}\\n'\n",
        "      for course, grade in self.grades.items():\n",
        "        output += f'{course}: {grade}\\n'\n",
        "      return output\n",
        "\n",
        "  #def print_all_grades\n",
        "     # for course, grade in self.grades.items():\n",
        "     #   print(f\"{course}: {grade})\n",
        "\n",
        "    def gpa(self):\n",
        "      return sum(self.grades.values()) / len(self.grades)\n",
        "\n",
        "class LetterReportCard(ReportCard):\n",
        "    def __init__(self, name, **kwargs):\n",
        "        super().__init__(name, **kwargs)\n",
        "        self.grades = kwargs\n",
        "        for class_name, grade in self.grades.items():\n",
        "            if grade >= 90:\n",
        "              grade = 'A'\n",
        "            elif grade >= 80:\n",
        "              grade = 'B'\n",
        "            elif grade >= 70:\n",
        "              grade = 'C'\n",
        "            elif grade >= 60:\n",
        "              grade = 'D'\n",
        "            else:\n",
        "              grade = 'F'\n",
        "            self.grades[class_name] = grade\n",
        "\n",
        "    def LetterReportCard(self):\n",
        "      return self.grades\n",
        "\n",
        "\n",
        "\n",
        "\n",
        "\n",
        "report_card = LetterReportCard(\"John Doe\", Math = 90, Science= 85, History= 78)\n",
        "\n",
        "print(report_card)\n",
        "print(report_card.get_grade(\"Math\"))\n",
        "#report_card.print_all_grades()\n",
        "#report_card.gpa()\n"
      ],
      "metadata": {
        "colab": {
          "base_uri": "https://localhost:8080/",
          "height": 402
        },
        "id": "n91iIbxSfiJ5",
        "outputId": "7881ed87-2dc9-492f-b45e-cecbaacbafc9",
        "collapsed": true
      },
      "execution_count": null,
      "outputs": [
        {
          "output_type": "stream",
          "name": "stdout",
          "text": [
            "John Doe\n",
            "Math: A\n",
            "Science: B\n",
            "History: C\n",
            "\n",
            "A\n"
          ]
        },
        {
          "output_type": "error",
          "ename": "TypeError",
          "evalue": "unsupported operand type(s) for +: 'int' and 'str'",
          "traceback": [
            "\u001b[0;31m---------------------------------------------------------------------------\u001b[0m",
            "\u001b[0;31mTypeError\u001b[0m                                 Traceback (most recent call last)",
            "\u001b[0;32m<ipython-input-86-e61d587ff6eb>\u001b[0m in \u001b[0;36m<cell line: 65>\u001b[0;34m()\u001b[0m\n\u001b[1;32m     63\u001b[0m \u001b[0mprint\u001b[0m\u001b[0;34m(\u001b[0m\u001b[0mreport_card\u001b[0m\u001b[0;34m.\u001b[0m\u001b[0mget_grade\u001b[0m\u001b[0;34m(\u001b[0m\u001b[0;34m\"Math\"\u001b[0m\u001b[0;34m)\u001b[0m\u001b[0;34m)\u001b[0m\u001b[0;34m\u001b[0m\u001b[0;34m\u001b[0m\u001b[0m\n\u001b[1;32m     64\u001b[0m \u001b[0;31m#report_card.print_all_grades()\u001b[0m\u001b[0;34m\u001b[0m\u001b[0;34m\u001b[0m\u001b[0m\n\u001b[0;32m---> 65\u001b[0;31m \u001b[0mreport_card\u001b[0m\u001b[0;34m.\u001b[0m\u001b[0mgpa\u001b[0m\u001b[0;34m(\u001b[0m\u001b[0;34m)\u001b[0m\u001b[0;34m\u001b[0m\u001b[0;34m\u001b[0m\u001b[0m\n\u001b[0m",
            "\u001b[0;32m<ipython-input-86-e61d587ff6eb>\u001b[0m in \u001b[0;36mgpa\u001b[0;34m(self)\u001b[0m\n\u001b[1;32m     32\u001b[0m \u001b[0;34m\u001b[0m\u001b[0m\n\u001b[1;32m     33\u001b[0m     \u001b[0;32mdef\u001b[0m \u001b[0mgpa\u001b[0m\u001b[0;34m(\u001b[0m\u001b[0mself\u001b[0m\u001b[0;34m)\u001b[0m\u001b[0;34m:\u001b[0m\u001b[0;34m\u001b[0m\u001b[0;34m\u001b[0m\u001b[0m\n\u001b[0;32m---> 34\u001b[0;31m       \u001b[0;32mreturn\u001b[0m \u001b[0msum\u001b[0m\u001b[0;34m(\u001b[0m\u001b[0mself\u001b[0m\u001b[0;34m.\u001b[0m\u001b[0mgrades\u001b[0m\u001b[0;34m.\u001b[0m\u001b[0mvalues\u001b[0m\u001b[0;34m(\u001b[0m\u001b[0;34m)\u001b[0m\u001b[0;34m)\u001b[0m \u001b[0;34m/\u001b[0m \u001b[0mlen\u001b[0m\u001b[0;34m(\u001b[0m\u001b[0mself\u001b[0m\u001b[0;34m.\u001b[0m\u001b[0mgrades\u001b[0m\u001b[0;34m)\u001b[0m\u001b[0;34m\u001b[0m\u001b[0;34m\u001b[0m\u001b[0m\n\u001b[0m\u001b[1;32m     35\u001b[0m \u001b[0;34m\u001b[0m\u001b[0m\n\u001b[1;32m     36\u001b[0m \u001b[0;32mclass\u001b[0m \u001b[0mLetterReportCard\u001b[0m\u001b[0;34m(\u001b[0m\u001b[0mReportCard\u001b[0m\u001b[0;34m)\u001b[0m\u001b[0;34m:\u001b[0m\u001b[0;34m\u001b[0m\u001b[0;34m\u001b[0m\u001b[0m\n",
            "\u001b[0;31mTypeError\u001b[0m: unsupported operand type(s) for +: 'int' and 'str'"
          ]
        }
      ]
    },
    {
      "source": [
        "'''\n",
        "Exercise: Define a report card class that wil be used to describe a students grade.\n",
        "Each instance of ReportCard will have one attribute name, which identifes the student\n",
        "It will also have a grades attributes, a dict whose keys are course names and whose values are course scores (integers, from 1-100)\n",
        "It should have a get_grade method, which takes acourse name and returns the grade of the course.\n",
        "It should have a print_all_grades method that prints all the grades, nicely formatted report card.\n",
        "Define an instance of ReportCard, get the grades for a few classes, and then print the report with print_all_grades.\n",
        "\n",
        "Modify ReportCard, replace print_all_grades method  with __rep___ method that returns a printable string\n",
        "Define LetterReportCard, where instead of storing (what it receives), it stores a letter grade. Decide on the cutoff grades for each letter grade.\n",
        "'''\n",
        "\n",
        "class ReportCard:\n",
        "    def __init__(self, name, **kwargs):\n",
        "        self.name = name\n",
        "        self.grades = kwargs\n",
        "\n",
        "    def get_grade(self, course_name):\n",
        "        if course_name in self.grades:\n",
        "            return self.grades[course_name]\n",
        "        return f'No such subject {course_name}'\n",
        "\n",
        "    def __repr__(self):\n",
        "        output = f'{self.name}\\n'\n",
        "        for course, grade in self.grades.items():\n",
        "            output += f'{course}: {grade}\\n'\n",
        "        return output\n",
        "\n",
        "    # The LetterReportCard method should be indented correctly within the class\n",
        "    def LetterReportCard(self, grade):\n",
        "        # Simplified grade conversion logic using if-elif-else\n",
        "        if grade >= 90:\n",
        "            return 'A'\n",
        "        elif grade >= 80:\n",
        "            return 'B'\n",
        "        elif grade >= 70:\n",
        "            return 'C'\n",
        "        elif grade >= 60:\n",
        "            return 'D'\n",
        "        else:\n",
        "            return 'F'\n",
        "\n",
        "\n",
        "    def gpa(self):\n",
        "        return sum(self.grades.values()) / len(self.grades)\n",
        "\n",
        "report_card = ReportCard(\"John Doe\", Math=90, Science=85, History=78)\n",
        "\n",
        "\n",
        "print(report_card.LetterReportCard(85))  # Call with a grade value\n",
        "print(report_card.get_grade(\"Math\"))\n",
        "#report_card.print_all_grades()\n",
        "report_card.gpa()"
      ],
      "cell_type": "code",
      "metadata": {
        "colab": {
          "base_uri": "https://localhost:8080/"
        },
        "id": "Ie5xq-1_qu2t",
        "outputId": "cac100e9-3e5b-40cb-bfff-09376a7de726"
      },
      "execution_count": null,
      "outputs": [
        {
          "output_type": "stream",
          "name": "stdout",
          "text": [
            "B\n",
            "90\n"
          ]
        },
        {
          "output_type": "execute_result",
          "data": {
            "text/plain": [
              "84.33333333333333"
            ]
          },
          "metadata": {},
          "execution_count": 62
        }
      ]
    },
    {
      "cell_type": "code",
      "source": [
        "class Book:\n",
        "  def __init__(self, title, author, price):\n",
        "    self.title = title\n",
        "    self.author = author\n",
        "    self.price = price\n",
        "\n",
        "  def purchase(self, quantity):\n",
        "    return self.price*quantity\n",
        "\n",
        "# create instances of the book\n",
        "b1 = Book(\"The Great Gatsby\", \"F. Scott Fitzgerald\", 10.99)\n",
        "b2 = Book(\"To Kill a Mockingbird\", \"Harper Lee\", 12.99)\n",
        "b3 = Book(\"1984\", \"George Orwell\", 9.99)\n",
        "\n",
        "# purchase books\n",
        "print(b1.purchase(2))\n",
        "print(b2.purchase(1))\n",
        "print(b3.purchase(3))\n",
        "\n",
        "b1.title = \"The Great Gatsby\"\n",
        "b1.author = \"F. Scott Fitzgerald\"\n",
        "b1.price = 10.99\n",
        "\n",
        "print(b1.title)\n",
        "print(b1.author)\n",
        "print(b1.price)"
      ],
      "metadata": {
        "colab": {
          "base_uri": "https://localhost:8080/"
        },
        "collapsed": true,
        "id": "w9yG6tWO-lVx",
        "outputId": "8cb59f98-5800-43a3-fc0b-41e2a6340be6"
      },
      "execution_count": null,
      "outputs": [
        {
          "output_type": "stream",
          "name": "stdout",
          "text": [
            "21.98\n",
            "12.99\n",
            "29.97\n",
            "The Great Gatsby\n",
            "F. Scott Fitzgerald\n",
            "10.99\n"
          ]
        }
      ]
    },
    {
      "cell_type": "code",
      "source": [
        "'''\n",
        "use of global variable - > avoid using global variable and use attributes instead\n",
        "'''\n",
        "\n",
        "class Person:\n",
        "    population = 0 # add a new attribute, population, to our person class. Here we don't need the \"Person.\"\"\n",
        "    def __init__(self, name):\n",
        "        self.name = name\n",
        "        #Person.population +=1\n",
        "        self.population +=1\n",
        "\n",
        "    def greet(self):\n",
        "      return f'Hello, {self.name}'\n",
        "\n",
        "#Person.population = 0 # add a new attribute, population, to our person class\n",
        "print(f' Before, {Person.population=}')\n",
        "p1 = Person(\"John\")\n",
        "p2 = Person(\"Jane\")\n",
        "print(f' After, {Person.population=}')\n",
        "print(f' After, {p1.population=}')\n",
        "print(f' After, {p2.population=}')\n",
        "\n",
        "print(Person.population)\n",
        "print(p1.greet())\n",
        "print(p2.greet())\n"
      ],
      "metadata": {
        "colab": {
          "base_uri": "https://localhost:8080/"
        },
        "collapsed": true,
        "id": "6P97T69c-oNE",
        "outputId": "1490b5e3-c263-4d36-b9b8-10c5cee733eb"
      },
      "execution_count": null,
      "outputs": [
        {
          "output_type": "stream",
          "name": "stdout",
          "text": [
            " Before, Person.population=0\n",
            " After, Person.population=0\n",
            " After, p1.population=1\n",
            " After, p2.population=1\n",
            "0\n",
            "Hello, John\n",
            "Hello, Jane\n"
          ]
        }
      ]
    },
    {
      "cell_type": "markdown",
      "source": [
        "Inheritance: One class can inherit from another. The child class should basically be the same as the parent class, except fro specific expectations that we define.\n",
        "\n",
        "In this way we can take advantage of the excisting clases and just modify where necessary."
      ],
      "metadata": {
        "id": "RWZHxvuCayk-"
      }
    },
    {
      "cell_type": "code",
      "source": [
        "class Person:\n",
        "    def __init__(self, name):\n",
        "        self.name = name\n",
        "\n",
        "    def greet(self):\n",
        "      return f'Hello, {self.name}'\n",
        "\n",
        "'''\n",
        "add a new class employee. Employee instance should work like person instances, except that they additional attribute id_number\n",
        "'''\n",
        "\n",
        "class Employee(Person): # class employee inherits from person\n",
        "    def __init__(self, name, id_number):\n",
        "        super().__init__(name) #another paradigm of inheritance\n",
        "        self.id_number = id_number\n",
        "\n",
        "    def greet(self): # the child class has a method of the same name and it overrides the parent\n",
        "      return f'Hello, {self.name}. You are employee {self.id_number}'\n",
        "\n",
        "p1 = Person(\"John\")\n",
        "p2 = Person(\"Jane\")\n",
        "\n",
        "e1 = Employee(\"Bob\", 123)\n",
        "e2 = Employee(\"Alice\", 456)\n",
        "\n",
        "print(e1.greet())\n",
        "print(e2.greet())\n",
        "\n",
        "print(p1.greet())\n",
        "print(p2.greet())"
      ],
      "metadata": {
        "colab": {
          "base_uri": "https://localhost:8080/"
        },
        "id": "cLWzMejPbBWa",
        "outputId": "45331d8f-e1ff-4807-f1d3-2527b38ee285"
      },
      "execution_count": null,
      "outputs": [
        {
          "output_type": "stream",
          "name": "stdout",
          "text": [
            "Hello, Bob. You are employee 123\n",
            "Hello, Alice. You are employee 456\n",
            "Hello, John\n",
            "Hello, Jane\n"
          ]
        }
      ]
    },
    {
      "cell_type": "code",
      "source": [],
      "metadata": {
        "id": "dYSy6mvKbngC"
      },
      "execution_count": null,
      "outputs": []
    },
    {
      "cell_type": "code",
      "source": [],
      "metadata": {
        "id": "CCboYC9we-Hs"
      },
      "execution_count": null,
      "outputs": []
    }
  ]
}